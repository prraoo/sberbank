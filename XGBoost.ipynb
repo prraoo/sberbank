{
 "cells": [
  {
   "cell_type": "markdown",
   "metadata": {},
   "source": [
    "## Price Prediction using XGBoost\n",
    "\n",
    "# Build a model\n",
    "\n",
    "` Notes`\n",
    "\n",
    "- ` Using XGBoost; Random FOrest, LightGBM `\n",
    "- ` Explore CrossValidation apart from sklearn.cross_validation ` \n",
    "- `OneHotEncoding vs LabelEcoder`\n"
   ]
  },
  {
   "cell_type": "code",
   "execution_count": 1,
   "metadata": {},
   "outputs": [
    {
     "name": "stderr",
     "output_type": "stream",
     "text": [
      "C:\\Continuum\\Anaconda3\\envs\\tf_cpu\\lib\\site-packages\\sklearn\\cross_validation.py:44: DeprecationWarning: This module was deprecated in version 0.18 in favor of the model_selection module into which all the refactored classes and functions are moved. Also note that the interface of the new CV iterators are different from that of this module. This module will be removed in 0.20.\n",
      "  \"This module will be removed in 0.20.\", DeprecationWarning)\n",
      "C:\\Continuum\\Anaconda3\\envs\\tf_cpu\\lib\\site-packages\\sklearn\\grid_search.py:43: DeprecationWarning: This module was deprecated in version 0.18 in favor of the model_selection module into which all the refactored classes and functions are moved. This module will be removed in 0.20.\n",
      "  DeprecationWarning)\n"
     ]
    }
   ],
   "source": [
    "import numpy as np # linear algebra\n",
    "import pandas as pd # data processing, CSV file I/O (e.g. pd.read_csv)\n",
    "import matplotlib.pyplot as plt\n",
    "import seaborn as sns\n",
    "from sklearn.cross_validation import train_test_split\n",
    "from sklearn import preprocessing\n",
    "from sklearn.metrics import mean_squared_error, mean_absolute_error, make_scorer\n",
    "from sklearn.grid_search import GridSearchCV\n",
    "\n",
    "import os\n",
    "# Transforming categorical features for train data\n",
    "lbl = preprocessing.LabelEncoder()\n",
    "enc = preprocessing.OneHotEncoder()\n",
    "#models\n",
    "import xgboost as xgb\n",
    "\n",
    "pd.set_option('display.max_columns', 500)\n",
    "pd.set_option('display.max_rows', 500)\n",
    "\n",
    "% matplotlib inline\n"
   ]
  },
  {
   "cell_type": "code",
   "execution_count": 2,
   "metadata": {},
   "outputs": [
    {
     "name": "stdout",
     "output_type": "stream",
     "text": [
      "BAD_ADDRESS_FIX.xlsx \t 07/16/2017\t2305\n",
      "data_dictionary.txt \t 07/06/2017\t2220\n",
      "macro.csv \t 07/06/2017\t2220\n",
      "sample_submission.csv \t 04/11/2017\t0948\n",
      "test.csv \t 07/28/2017\t2051\n",
      "test_clean.csv \t 07/28/2017\t2052\n",
      "test_csv.zip \t 07/28/2017\t2048\n",
      "test_fe.csv \t 07/30/2017\t2035\n",
      "train.csv \t 07/28/2017\t2052\n",
      "train_clean.csv \t 07/28/2017\t2053\n",
      "train_csv.zip \t 07/28/2017\t2048\n",
      "train_fe.csv \t 07/30/2017\t2035\n"
     ]
    }
   ],
   "source": [
    "from datetime import datetime\n",
    "from os.path import getmtime\n",
    "\n",
    "IN_DIR = 'input/'\n",
    "for filename in os.listdir(IN_DIR):\n",
    "    print (filename,'\\t' ,datetime.fromtimestamp(getmtime(os.path.join(IN_DIR, filename))).strftime('%m/%d/%Y\\t%H%M'))"
   ]
  },
  {
   "cell_type": "code",
   "execution_count": 3,
   "metadata": {
    "collapsed": true
   },
   "outputs": [],
   "source": [
    "#import feature engineered data\n",
    "\n",
    "train_df = pd.read_csv(\"input/train_fe.csv\")\n",
    "test_df = pd.read_csv(\"input/test_fe.csv\")\n"
   ]
  },
  {
   "cell_type": "code",
   "execution_count": 4,
   "metadata": {
    "collapsed": true
   },
   "outputs": [],
   "source": [
    "# Data preprocessing and creating of test-train split of TRAIN DATA\n",
    "\n",
    "for col in train_df.columns:\n",
    "    if train_df[col].dtype == 'object':\n",
    "        lbl.fit(train_df[col].values)\n",
    "        train_df[col] = lbl.transform(train_df[col].values)\n",
    "  #  else:\n",
    "       # train_df[col] = train_df[col]\n",
    "        \n",
    "# Training data test-train set preparation \n",
    "train_y = train_df['price_doc']\n",
    "train_X = train_df.drop(['id', 'timestamp','price_doc'],axis=1)"
   ]
  },
  {
   "cell_type": "code",
   "execution_count": 5,
   "metadata": {},
   "outputs": [
    {
     "name": "stdout",
     "output_type": "stream",
     "text": [
      "Test data set has (7662, 396) samples\n"
     ]
    }
   ],
   "source": [
    "# Data preprocessing and creating of test-train split of TEST DATA\n",
    "id_test = test_df['id']\n",
    "#Preparing test data\n",
    "for col in test_df.columns:\n",
    "    if test_df[col].dtype == 'object':\n",
    "        \n",
    "        lbl.fit(test_df[col].values)\n",
    "        test_df[col] = lbl.transform(test_df[col].values)\n",
    "   # else:\n",
    "        #test_df[col] = test_df[col]\n",
    "            \n",
    "        \n",
    "test_X = test_df.drop(['id', 'timestamp'], axis=1)\n",
    "\n",
    "#Show the results \n",
    "print(\"Test data set has {} samples\".format(test_X.shape))   "
   ]
  },
  {
   "cell_type": "markdown",
   "metadata": {},
   "source": [
    "## Basic XGBOOST Model"
   ]
  },
  {
   "cell_type": "code",
   "execution_count": 6,
   "metadata": {},
   "outputs": [
    {
     "name": "stdout",
     "output_type": "stream",
     "text": [
      "(30119, 396) (30119,)\n"
     ]
    }
   ],
   "source": [
    "print( train_X.shape, train_y.shape)"
   ]
  },
  {
   "cell_type": "code",
   "execution_count": 7,
   "metadata": {
    "collapsed": true
   },
   "outputs": [],
   "source": [
    "dtrain = xgb.DMatrix(train_X, train_df['price_doc'])"
   ]
  },
  {
   "cell_type": "markdown",
   "metadata": {},
   "source": [
    "** Using basic list of parameters for the initial setup **"
   ]
  },
  {
   "cell_type": "code",
   "execution_count": 8,
   "metadata": {
    "collapsed": true
   },
   "outputs": [],
   "source": [
    "\n",
    "xgb_params = {\n",
    "    'seed': 0,\n",
    "    'eta': 0.1,\n",
    "    'colsample_bytree': 0.5,\n",
    "    'silent': 0,\n",
    "    'subsample': 0.5,\n",
    "    'objective': 'reg:linear',\n",
    "    'eval_metric': 'rmse',\n",
    "    'max_depth': 5,\n",
    "    'min_child_weight': 3\n",
    "}"
   ]
  },
  {
   "cell_type": "code",
   "execution_count": 9,
   "metadata": {},
   "outputs": [
    {
     "name": "stdout",
     "output_type": "stream",
     "text": [
      "Cross Validation Score: 2300743.41667\n"
     ]
    },
    {
     "data": {
      "text/html": [
       "<div>\n",
       "<style>\n",
       "    .dataframe thead tr:only-child th {\n",
       "        text-align: right;\n",
       "    }\n",
       "\n",
       "    .dataframe thead th {\n",
       "        text-align: left;\n",
       "    }\n",
       "\n",
       "    .dataframe tbody tr th {\n",
       "        vertical-align: top;\n",
       "    }\n",
       "</style>\n",
       "<table border=\"1\" class=\"dataframe\">\n",
       "  <thead>\n",
       "    <tr style=\"text-align: right;\">\n",
       "      <th></th>\n",
       "      <th>test-rmse-mean</th>\n",
       "      <th>test-rmse-std</th>\n",
       "      <th>train-rmse-mean</th>\n",
       "      <th>train-rmse-std</th>\n",
       "    </tr>\n",
       "  </thead>\n",
       "  <tbody>\n",
       "    <tr>\n",
       "      <th>count</th>\n",
       "      <td>5.000000e+01</td>\n",
       "      <td>50.000000</td>\n",
       "      <td>5.000000e+01</td>\n",
       "      <td>50.000000</td>\n",
       "    </tr>\n",
       "    <tr>\n",
       "      <th>mean</th>\n",
       "      <td>3.051732e+06</td>\n",
       "      <td>22903.817838</td>\n",
       "      <td>2.913831e+06</td>\n",
       "      <td>11546.560580</td>\n",
       "    </tr>\n",
       "    <tr>\n",
       "      <th>std</th>\n",
       "      <td>1.224685e+06</td>\n",
       "      <td>9315.735298</td>\n",
       "      <td>1.290327e+06</td>\n",
       "      <td>4032.687016</td>\n",
       "    </tr>\n",
       "    <tr>\n",
       "      <th>min</th>\n",
       "      <td>2.300743e+06</td>\n",
       "      <td>14095.291309</td>\n",
       "      <td>2.051494e+06</td>\n",
       "      <td>593.999404</td>\n",
       "    </tr>\n",
       "    <tr>\n",
       "      <th>25%</th>\n",
       "      <td>2.333432e+06</td>\n",
       "      <td>15574.899052</td>\n",
       "      <td>2.126301e+06</td>\n",
       "      <td>9605.070231</td>\n",
       "    </tr>\n",
       "    <tr>\n",
       "      <th>50%</th>\n",
       "      <td>2.440364e+06</td>\n",
       "      <td>19126.535357</td>\n",
       "      <td>2.290301e+06</td>\n",
       "      <td>11523.609066</td>\n",
       "    </tr>\n",
       "    <tr>\n",
       "      <th>75%</th>\n",
       "      <td>3.150803e+06</td>\n",
       "      <td>27774.176691</td>\n",
       "      <td>3.082511e+06</td>\n",
       "      <td>13607.040662</td>\n",
       "    </tr>\n",
       "    <tr>\n",
       "      <th>max</th>\n",
       "      <td>7.249912e+06</td>\n",
       "      <td>47576.134618</td>\n",
       "      <td>7.246858e+06</td>\n",
       "      <td>22164.418972</td>\n",
       "    </tr>\n",
       "  </tbody>\n",
       "</table>\n",
       "</div>"
      ],
      "text/plain": [
       "       test-rmse-mean  test-rmse-std  train-rmse-mean  train-rmse-std\n",
       "count    5.000000e+01      50.000000     5.000000e+01       50.000000\n",
       "mean     3.051732e+06   22903.817838     2.913831e+06    11546.560580\n",
       "std      1.224685e+06    9315.735298     1.290327e+06     4032.687016\n",
       "min      2.300743e+06   14095.291309     2.051494e+06      593.999404\n",
       "25%      2.333432e+06   15574.899052     2.126301e+06     9605.070231\n",
       "50%      2.440364e+06   19126.535357     2.290301e+06    11523.609066\n",
       "75%      3.150803e+06   27774.176691     3.082511e+06    13607.040662\n",
       "max      7.249912e+06   47576.134618     7.246858e+06    22164.418972"
      ]
     },
     "execution_count": 9,
     "metadata": {},
     "output_type": "execute_result"
    }
   ],
   "source": [
    "xgb_base_cv1 = xgb.cv(xgb_params, dtrain, num_boost_round=50, nfold=3, seed=0, \n",
    "                 feval= None,\n",
    "                 maximize=False, early_stopping_rounds=10)\n",
    "\n",
    "print('Cross Validation Score:' ,xgb_base_cv1.iloc[-1,:]['test-rmse-mean'])\n",
    "\n",
    "xgb_base_cv1.describe()"
   ]
  },
  {
   "cell_type": "markdown",
   "metadata": {},
   "source": [
    "      The crossvalidation score of for the test set 2.300743e+06 can be starting score. Now to scale the tuning, the seeing \n",
    "      how train error and test error vary gives a better insight. "
   ]
  },
  {
   "cell_type": "code",
   "execution_count": 10,
   "metadata": {},
   "outputs": [
    {
     "data": {
      "image/png": "[encoded data removed]",
      "text/plain": [
       "<matplotlib.figure.Figure at 0xa56a400>"
      ]
     },
     "metadata": {},
     "output_type": "display_data"
    }
   ],
   "source": [
    "fig,ax =  plt.subplots(figsize= (12,6))\n",
    "\n",
    "ax.set_title('XGBoost Base Model with Rounds = 50')\n",
    "ax.plot(xgb_base_cv1[['test-rmse-mean', 'train-rmse-mean']])\n",
    "ax.set_ylabel('RMSLE')\n",
    "ax.set_xlabel('Number of Rounds')\n",
    "\n",
    "plt.show()"
   ]
  },
  {
   "cell_type": "markdown",
   "metadata": {},
   "source": [
    "Observing the XGBoost curves follwing infernce can be derived:\n",
    "\n",
    "- Train and test curves are close hence there is not much overfitting\n",
    "- Error is decreasing, so we can use more iterations.\n",
    "\n",
    "This encourages us to use more number of rounds for 50 to say, 100."
   ]
  },
  {
   "cell_type": "code",
   "execution_count": 11,
   "metadata": {},
   "outputs": [
    {
     "name": "stdout",
     "output_type": "stream",
     "text": [
      "Cross Validation Score: 2250772.0\n"
     ]
    },
    {
     "data": {
      "text/html": [
       "<div>\n",
       "<style>\n",
       "    .dataframe thead tr:only-child th {\n",
       "        text-align: right;\n",
       "    }\n",
       "\n",
       "    .dataframe thead th {\n",
       "        text-align: left;\n",
       "    }\n",
       "\n",
       "    .dataframe tbody tr th {\n",
       "        vertical-align: top;\n",
       "    }\n",
       "</style>\n",
       "<table border=\"1\" class=\"dataframe\">\n",
       "  <thead>\n",
       "    <tr style=\"text-align: right;\">\n",
       "      <th></th>\n",
       "      <th>test-rmse-mean</th>\n",
       "      <th>test-rmse-std</th>\n",
       "      <th>train-rmse-mean</th>\n",
       "      <th>train-rmse-std</th>\n",
       "    </tr>\n",
       "  </thead>\n",
       "  <tbody>\n",
       "    <tr>\n",
       "      <th>count</th>\n",
       "      <td>1.000000e+02</td>\n",
       "      <td>100.000000</td>\n",
       "      <td>1.000000e+02</td>\n",
       "      <td>100.000000</td>\n",
       "    </tr>\n",
       "    <tr>\n",
       "      <th>mean</th>\n",
       "      <td>2.660826e+06</td>\n",
       "      <td>17723.451841</td>\n",
       "      <td>2.436307e+06</td>\n",
       "      <td>9718.864325</td>\n",
       "    </tr>\n",
       "    <tr>\n",
       "      <th>std</th>\n",
       "      <td>9.469955e+05</td>\n",
       "      <td>8439.464429</td>\n",
       "      <td>1.027380e+06</td>\n",
       "      <td>4092.677123</td>\n",
       "    </tr>\n",
       "    <tr>\n",
       "      <th>min</th>\n",
       "      <td>2.250772e+06</td>\n",
       "      <td>9513.172613</td>\n",
       "      <td>1.887246e+06</td>\n",
       "      <td>593.999404</td>\n",
       "    </tr>\n",
       "    <tr>\n",
       "      <th>25%</th>\n",
       "      <td>2.266469e+06</td>\n",
       "      <td>12941.521619</td>\n",
       "      <td>1.953791e+06</td>\n",
       "      <td>5871.072715</td>\n",
       "    </tr>\n",
       "    <tr>\n",
       "      <th>50%</th>\n",
       "      <td>2.300073e+06</td>\n",
       "      <td>14536.240760</td>\n",
       "      <td>2.049201e+06</td>\n",
       "      <td>10129.226212</td>\n",
       "    </tr>\n",
       "    <tr>\n",
       "      <th>75%</th>\n",
       "      <td>2.435867e+06</td>\n",
       "      <td>18920.728437</td>\n",
       "      <td>2.284208e+06</td>\n",
       "      <td>12648.221367</td>\n",
       "    </tr>\n",
       "    <tr>\n",
       "      <th>max</th>\n",
       "      <td>7.249912e+06</td>\n",
       "      <td>47576.134618</td>\n",
       "      <td>7.246858e+06</td>\n",
       "      <td>22164.418972</td>\n",
       "    </tr>\n",
       "  </tbody>\n",
       "</table>\n",
       "</div>"
      ],
      "text/plain": [
       "       test-rmse-mean  test-rmse-std  train-rmse-mean  train-rmse-std\n",
       "count    1.000000e+02     100.000000     1.000000e+02      100.000000\n",
       "mean     2.660826e+06   17723.451841     2.436307e+06     9718.864325\n",
       "std      9.469955e+05    8439.464429     1.027380e+06     4092.677123\n",
       "min      2.250772e+06    9513.172613     1.887246e+06      593.999404\n",
       "25%      2.266469e+06   12941.521619     1.953791e+06     5871.072715\n",
       "50%      2.300073e+06   14536.240760     2.049201e+06    10129.226212\n",
       "75%      2.435867e+06   18920.728437     2.284208e+06    12648.221367\n",
       "max      7.249912e+06   47576.134618     7.246858e+06    22164.418972"
      ]
     },
     "execution_count": 11,
     "metadata": {},
     "output_type": "execute_result"
    }
   ],
   "source": [
    "xgb_base_cv2 = xgb.cv(xgb_params, dtrain, num_boost_round=100, nfold=3, seed=0, \n",
    "                 feval= None,\n",
    "                 maximize=False, early_stopping_rounds=10)\n",
    "\n",
    "print('Cross Validation Score:' ,xgb_base_cv2.iloc[-1,:]['test-rmse-mean'])\n",
    "\n",
    "xgb_base_cv2.describe()"
   ]
  },
  {
   "cell_type": "code",
   "execution_count": 12,
   "metadata": {},
   "outputs": [
    {
     "data": {
      "image/png": "[encoded data removed]",
      "text/plain": [
       "<matplotlib.figure.Figure at 0xa593fd0>"
      ]
     },
     "metadata": {},
     "output_type": "display_data"
    }
   ],
   "source": [
    "fig,(ax1,ax2) =  plt.subplots(figsize= (12,6), ncols=2)\n",
    "\n",
    "ax1.set_title('XGBoost Base Model with Rounds = 100')\n",
    "ax1.plot(xgb_base_cv2[['test-rmse-mean', 'train-rmse-mean']])\n",
    "ax1.set_ylabel('RMSLE')\n",
    "ax1.set_xlabel('Number of rounds')\n",
    "ax1.legend(['Training Loss', 'Test Loss'])\n",
    "\n",
    "ax2.set_title('XGBoost Base Model between 30-100 rounds')\n",
    "ax2.plot(xgb_base_cv2.iloc[30:,][['test-rmse-mean', 'train-rmse-mean']])\n",
    "ax2.set_ylabel('RMSLE')\n",
    "ax2.set_xlabel('Number of rounds from 60')\n",
    "ax2.legend(['Training Loss', 'Test Loss'])\n",
    "\n",
    "plt.show()"
   ]
  },
  {
   "cell_type": "markdown",
   "metadata": {},
   "source": [
    "On observing the second training data, \n",
    "\n",
    "The train-RMSLE is reducing from 2.051494e+06 to 1.887246e+06 whereas test-RMSLE from 2.300743e+06 to 2.051494e+06.\n",
    "\n",
    "We can clearlysee that the model is getting overfitted as there is very less improvement in the test set. Hence it is better to stop at 50 and improve other important hyper parameters.\n",
    "\n",
    "\n"
   ]
  },
  {
   "cell_type": "markdown",
   "metadata": {},
   "source": [
    "# XGBoost parameter tuning \n",
    "\n",
    "- max_depth\n",
    "- min_child_wt\n",
    "- gammma\n",
    "- subsample\n",
    "- col_sample_bytree \n",
    "\n"
   ]
  },
  {
   "cell_type": "markdown",
   "metadata": {},
   "source": [
    "### Scorer \n",
    "\n",
    "For the evaluation of grid search cross calidation, we define our own scoring function.\n",
    "\n",
    "https://stats.stackexchange.com/questions/110599/how-to-get-both-mse-and-r2-from-a-sklearn-gridsearchcv"
   ]
  },
  {
   "cell_type": "code",
   "execution_count": 13,
   "metadata": {
    "collapsed": true
   },
   "outputs": [],
   "source": [
    "def fun_rmse(y_true,dtrain):\n",
    "    labels = dtrain.get_label()\n",
    "    rmse = (abs(mean_squared_error(y_true=y_true,y_pred=labels)))**0.5\n",
    "    return rmse\n",
    "def rmse_scorer():\n",
    "    return make_scorer(fun_rmse, greater_is_better=False)    "
   ]
  },
  {
   "cell_type": "markdown",
   "metadata": {},
   "source": [
    "### Note:\n",
    "\n",
    "Unfortunaltey, I am unable to get the custom scorer into the GridSearchCV,so I am planning to use sklearn built-in scorer \"mean square error\" and then calculate square root to get root mean square."
   ]
  },
  {
   "cell_type": "code",
   "execution_count": 14,
   "metadata": {
    "collapsed": true
   },
   "outputs": [],
   "source": [
    "def mse2rmse(score):\n",
    "    for index,_ in enumerate(score):\n",
    "        val_sq = (abs(score[index][1]))**0.5\n",
    "        print ('rmse: {}'.format(val_sq), 'params: {}'.format(score[index][0]))"
   ]
  },
  {
   "cell_type": "markdown",
   "metadata": {},
   "source": [
    "Validate the work around approach for scoring"
   ]
  },
  {
   "cell_type": "code",
   "execution_count": 15,
   "metadata": {
    "collapsed": true
   },
   "outputs": [],
   "source": [
    "xgb_params_cv = {'max_depth': [5], 'min_child_weight': [3]}\n",
    "\n",
    "xgb_params = {\n",
    "                 'colsample_bytree': 0.5,\n",
    "                 'eta': 0.1,\n",
    "                 'eval_metric': 'rmse',\n",
    "                 'objective': 'reg:linear',\n",
    "                 'seed': 0,\n",
    "                 'silent': 0,\n",
    "                 'subsample': 0.5\n",
    "             }"
   ]
  },
  {
   "cell_type": "code",
   "execution_count": 16,
   "metadata": {
    "collapsed": true
   },
   "outputs": [],
   "source": [
    "valid_xgb = GridSearchCV(estimator=xgb.XGBRegressor(**xgb_params), param_grid=xgb_params_cv,scoring='mean_squared_error',\n",
    "                                 cv = 5, n_jobs = -1)"
   ]
  },
  {
   "cell_type": "code",
   "execution_count": 17,
   "metadata": {},
   "outputs": [
    {
     "name": "stdout",
     "output_type": "stream",
     "text": [
      "Wall time: 2min 28s\n"
     ]
    },
    {
     "data": {
      "text/plain": [
       "GridSearchCV(cv=5, error_score='raise',\n",
       "       estimator=XGBRegressor(base_score=0.5, booster='gbtree', colsample_bylevel=1,\n",
       "       colsample_bytree=0.5, eta=0.1, eval_metric='rmse', gamma=0,\n",
       "       learning_rate=0.1, max_delta_step=0, max_depth=3,\n",
       "       min_child_weight=1, missing=None, n_estimators=100, n_jobs=1,\n",
       "       nthread=None, objective='reg:linear', random_state=0, reg_alpha=0,\n",
       "       reg_lambda=1, scale_pos_weight=1, seed=0, silent=0, subsample=0.5),\n",
       "       fit_params={}, iid=True, n_jobs=-1,\n",
       "       param_grid={'max_depth': [5], 'min_child_weight': [3]},\n",
       "       pre_dispatch='2*n_jobs', refit=True, scoring='mean_squared_error',\n",
       "       verbose=0)"
      ]
     },
     "execution_count": 17,
     "metadata": {},
     "output_type": "execute_result"
    }
   ],
   "source": [
    "%%time\n",
    "\n",
    "valid_xgb.fit(train_X,train_y)"
   ]
  },
  {
   "cell_type": "code",
   "execution_count": 18,
   "metadata": {},
   "outputs": [
    {
     "data": {
      "text/plain": [
       "[mean: -5372357997112.13770, std: 620944936746.31836, params: {'min_child_weight': 3, 'max_depth': 5}]"
      ]
     },
     "execution_count": 18,
     "metadata": {},
     "output_type": "execute_result"
    }
   ],
   "source": [
    "valid_xgb.grid_scores_"
   ]
  },
  {
   "cell_type": "code",
   "execution_count": 19,
   "metadata": {},
   "outputs": [
    {
     "name": "stdout",
     "output_type": "stream",
     "text": [
      "rmse: 2317834.7648424245 params: {'min_child_weight': 3, 'max_depth': 5}\n"
     ]
    }
   ],
   "source": [
    "mse2rmse( valid_xgb.grid_scores_)"
   ]
  },
  {
   "cell_type": "markdown",
   "metadata": {},
   "source": [
    "The value of rmse calculated is close to the rmse value derived from XGBoost \"eval-metric\""
   ]
  },
  {
   "cell_type": "markdown",
   "metadata": {
    "collapsed": true
   },
   "source": [
    "### Step2: Tuning max_depth and min_child_weight"
   ]
  },
  {
   "cell_type": "code",
   "execution_count": 40,
   "metadata": {
    "collapsed": true
   },
   "outputs": [],
   "source": [
    "xgb_params_cv_1 = {'max_depth': list(range(4,10)), 'min_child_weight': list(range(1,7))}"
   ]
  },
  {
   "cell_type": "code",
   "execution_count": 41,
   "metadata": {
    "collapsed": true
   },
   "outputs": [],
   "source": [
    "xgb_params_1 = {\n",
    "                 'colsample_bytree': 0.5,\n",
    "                 'eta': 0.1,\n",
    "                 'eval_metric': 'rmse',\n",
    "                 \n",
    "                 'objective': 'reg:linear',\n",
    "                 'seed': 0,\n",
    "                 'silent': 0,\n",
    "                 'subsample': 0.5\n",
    "             }"
   ]
  },
  {
   "cell_type": "code",
   "execution_count": 42,
   "metadata": {
    "collapsed": true
   },
   "outputs": [],
   "source": [
    "optimzed_xgb = GridSearchCV(estimator=xgb.XGBRegressor(**xgb_params_1), param_grid=xgb_params_cv_1,scoring='mean_squared_error',\n",
    "                                cv = 5, n_jobs = -1)"
   ]
  },
  {
   "cell_type": "code",
   "execution_count": 43,
   "metadata": {},
   "outputs": [
    {
     "name": "stdout",
     "output_type": "stream",
     "text": [
      "Wall time: 16min 55s\n"
     ]
    },
    {
     "data": {
      "text/plain": [
       "GridSearchCV(cv=5, error_score='raise',\n",
       "       estimator=XGBRegressor(base_score=0.5, booster='gbtree', colsample_bylevel=1,\n",
       "       colsample_bytree=0.5, eta=0.1, eval_metric='rmse', gamma=0,\n",
       "       learning_rate=0.1, max_delta_step=0, max_depth=3,\n",
       "       min_child_weight=1, missing=None, n_estimators=100, n_jobs=1,\n",
       "       nthread=None, objective='reg:linear', random_state=0, reg_alpha=0,\n",
       "       reg_lambda=1, scale_pos_weight=1, seed=0, silent=0, subsample=0.5),\n",
       "       fit_params={}, iid=True, n_jobs=-1,\n",
       "       param_grid={'max_depth': [4, 5, 6, 7, 8, 9], 'min_child_weight': [1, 2, 3, 4, 5, 6]},\n",
       "       pre_dispatch='2*n_jobs', refit=True, scoring='mean_squared_error',\n",
       "       verbose=0)"
      ]
     },
     "execution_count": 43,
     "metadata": {},
     "output_type": "execute_result"
    }
   ],
   "source": [
    "%%time\n",
    "optimzed_xgb.fit(train_X,train_y)"
   ]
  },
  {
   "cell_type": "code",
   "execution_count": 44,
   "metadata": {},
   "outputs": [
    {
     "data": {
      "text/plain": [
       "[mean: -5473646542927.93066, std: 593610176470.56055, params: {'min_child_weight': 1, 'max_depth': 4},\n",
       " mean: -5493954973577.43262, std: 601532602548.58582, params: {'max_depth': 4, 'min_child_weight': 2},\n",
       " mean: -5491945959344.80469, std: 581801636910.26086, params: {'min_child_weight': 3, 'max_depth': 4},\n",
       " mean: -5486502247905.78809, std: 581665380117.24548, params: {'min_child_weight': 4, 'max_depth': 4},\n",
       " mean: -5449826807524.43359, std: 582486267747.24915, params: {'max_depth': 4, 'min_child_weight': 5},\n",
       " mean: -5449684969095.94141, std: 585494869897.47729, params: {'min_child_weight': 6, 'max_depth': 4},\n",
       " mean: -5358614367445.23145, std: 584771362907.82922, params: {'max_depth': 5, 'min_child_weight': 1},\n",
       " mean: -5373511589510.83301, std: 593154905422.76770, params: {'max_depth': 5, 'min_child_weight': 2},\n",
       " mean: -5372357997112.13770, std: 620944936746.31836, params: {'min_child_weight': 3, 'max_depth': 5},\n",
       " mean: -5344816535622.92676, std: 622477341291.26196, params: {'max_depth': 5, 'min_child_weight': 4},\n",
       " mean: -5350242118132.73828, std: 643795072301.73254, params: {'min_child_weight': 5, 'max_depth': 5},\n",
       " mean: -5352989441456.42480, std: 659356119775.38098, params: {'min_child_weight': 6, 'max_depth': 5},\n",
       " mean: -5341631683097.65918, std: 658620026617.54626, params: {'max_depth': 6, 'min_child_weight': 1},\n",
       " mean: -5305690527978.01855, std: 616373314717.08228, params: {'max_depth': 6, 'min_child_weight': 2},\n",
       " mean: -5345425187297.09863, std: 677163246957.22815, params: {'min_child_weight': 3, 'max_depth': 6},\n",
       " mean: -5367193723702.65137, std: 637731481125.12476, params: {'max_depth': 6, 'min_child_weight': 4},\n",
       " mean: -5272927933423.76562, std: 642791685925.12915, params: {'min_child_weight': 5, 'max_depth': 6},\n",
       " mean: -5297999639650.31543, std: 629251819390.88623, params: {'max_depth': 6, 'min_child_weight': 6},\n",
       " mean: -5314219162634.39258, std: 652523738133.57227, params: {'max_depth': 7, 'min_child_weight': 1},\n",
       " mean: -5336267701177.02734, std: 658398134070.74841, params: {'max_depth': 7, 'min_child_weight': 2},\n",
       " mean: -5378528407315.52148, std: 700522839981.50769, params: {'max_depth': 7, 'min_child_weight': 3},\n",
       " mean: -5356698752369.27148, std: 614690323008.37878, params: {'max_depth': 7, 'min_child_weight': 4},\n",
       " mean: -5366585529593.61426, std: 636312857666.40039, params: {'min_child_weight': 5, 'max_depth': 7},\n",
       " mean: -5325543633250.73535, std: 628839121783.15833, params: {'max_depth': 7, 'min_child_weight': 6},\n",
       " mean: -5452431410296.95996, std: 707381351535.07031, params: {'min_child_weight': 1, 'max_depth': 8},\n",
       " mean: -5425001341202.87402, std: 643785203213.07239, params: {'max_depth': 8, 'min_child_weight': 2},\n",
       " mean: -5366637435124.75293, std: 584024447113.52527, params: {'min_child_weight': 3, 'max_depth': 8},\n",
       " mean: -5436539521847.23730, std: 677263910253.44299, params: {'max_depth': 8, 'min_child_weight': 4},\n",
       " mean: -5391297389625.89941, std: 629843585956.38171, params: {'max_depth': 8, 'min_child_weight': 5},\n",
       " mean: -5369443277291.13281, std: 603692233116.59998, params: {'max_depth': 8, 'min_child_weight': 6},\n",
       " mean: -5509884104370.46191, std: 660175105000.36890, params: {'min_child_weight': 1, 'max_depth': 9},\n",
       " mean: -5470786345777.49219, std: 584879608015.16821, params: {'max_depth': 9, 'min_child_weight': 2},\n",
       " mean: -5501621583915.13086, std: 727381788786.49316, params: {'max_depth': 9, 'min_child_weight': 3},\n",
       " mean: -5454786182181.61914, std: 661444737840.85681, params: {'max_depth': 9, 'min_child_weight': 4},\n",
       " mean: -5493580334956.24023, std: 706044595178.43542, params: {'min_child_weight': 5, 'max_depth': 9},\n",
       " mean: -5427002402722.16602, std: 684427032265.67419, params: {'max_depth': 9, 'min_child_weight': 6}]"
      ]
     },
     "execution_count": 44,
     "metadata": {},
     "output_type": "execute_result"
    }
   ],
   "source": [
    "(optimzed_xgb.grid_scores_)"
   ]
  },
  {
   "cell_type": "code",
   "execution_count": 45,
   "metadata": {},
   "outputs": [
    {
     "name": "stdout",
     "output_type": "stream",
     "text": [
      "rmse: 2339582.557408037 params: {'min_child_weight': 1, 'max_depth': 4}\n",
      "rmse: 2343918.721623562 params: {'max_depth': 4, 'min_child_weight': 2}\n",
      "rmse: 2343490.1235859315 params: {'min_child_weight': 3, 'max_depth': 4}\n",
      "rmse: 2342328.3817402264 params: {'min_child_weight': 4, 'max_depth': 4}\n",
      "rmse: 2334486.4119382733 params: {'max_depth': 4, 'min_child_weight': 5}\n",
      "rmse: 2334456.0328042037 params: {'min_child_weight': 6, 'max_depth': 4}\n",
      "rmse: 2314868.1101620523 params: {'max_depth': 5, 'min_child_weight': 1}\n",
      "rmse: 2318083.6027871887 params: {'max_depth': 5, 'min_child_weight': 2}\n",
      "rmse: 2317834.7648424245 params: {'min_child_weight': 3, 'max_depth': 5}\n",
      "rmse: 2311885.9261700017 params: {'max_depth': 5, 'min_child_weight': 4}\n",
      "rmse: 2313059.039050395 params: {'min_child_weight': 5, 'max_depth': 5}\n",
      "rmse: 2313652.8351194835 params: {'min_child_weight': 6, 'max_depth': 5}\n",
      "rmse: 2311197.0238596406 params: {'max_depth': 6, 'min_child_weight': 1}\n",
      "rmse: 2303408.4587797318 params: {'max_depth': 6, 'min_child_weight': 2}\n",
      "rmse: 2312017.5577397975 params: {'min_child_weight': 3, 'max_depth': 6}\n",
      "rmse: 2316720.467320702 params: {'max_depth': 6, 'min_child_weight': 4}\n",
      "rmse: 2296285.6820142753 params: {'min_child_weight': 5, 'max_depth': 6}\n",
      "rmse: 2301738.395137535 params: {'max_depth': 6, 'min_child_weight': 6}\n",
      "rmse: 2305259.022894042 params: {'max_depth': 7, 'min_child_weight': 1}\n",
      "rmse: 2310036.298670873 params: {'max_depth': 7, 'min_child_weight': 2}\n",
      "rmse: 2319165.4549245774 params: {'max_depth': 7, 'min_child_weight': 3}\n",
      "rmse: 2314454.3098469824 params: {'max_depth': 7, 'min_child_weight': 4}\n",
      "rmse: 2316589.201734657 params: {'min_child_weight': 5, 'max_depth': 7}\n",
      "rmse: 2307713.9409490805 params: {'max_depth': 7, 'min_child_weight': 6}\n",
      "rmse: 2335044.1987887425 params: {'min_child_weight': 1, 'max_depth': 8}\n",
      "rmse: 2329163.2276856154 params: {'max_depth': 8, 'min_child_weight': 2}\n",
      "rmse: 2316600.4047147953 params: {'min_child_weight': 3, 'max_depth': 8}\n",
      "rmse: 2331638.8060433455 params: {'max_depth': 8, 'min_child_weight': 4}\n",
      "rmse: 2321916.749073037 params: {'max_depth': 8, 'min_child_weight': 5}\n",
      "rmse: 2317205.9203469884 params: {'max_depth': 8, 'min_child_weight': 6}\n",
      "rmse: 2347314.2321322174 params: {'min_child_weight': 1, 'max_depth': 9}\n",
      "rmse: 2338971.2152520157 params: {'max_depth': 9, 'min_child_weight': 2}\n",
      "rmse: 2345553.577285143 params: {'max_depth': 9, 'min_child_weight': 3}\n",
      "rmse: 2335548.3686238695 params: {'max_depth': 9, 'min_child_weight': 4}\n",
      "rmse: 2343838.8031083196 params: {'min_child_weight': 5, 'max_depth': 9}\n",
      "rmse: 2329592.7546938686 params: {'max_depth': 9, 'min_child_weight': 6}\n"
     ]
    }
   ],
   "source": [
    "mse2rmse(optimzed_xgb.grid_scores_)"
   ]
  },
  {
   "cell_type": "code",
   "execution_count": 47,
   "metadata": {
    "scrolled": false
   },
   "outputs": [
    {
     "name": "stdout",
     "output_type": "stream",
     "text": [
      "[{'rmse': 2296285.6820142753}, {'min_child_weight': 5, 'max_depth': 6}]\n"
     ]
    }
   ],
   "source": [
    "print([{'rmse' : (abs(optimzed_xgb.best_score_)**0.5)}, optimzed_xgb.best_params_])"
   ]
  },
  {
   "cell_type": "code",
   "execution_count": 48,
   "metadata": {
    "collapsed": true
   },
   "outputs": [],
   "source": [
    "def convert_grid_scores(scores):\n",
    "    _params = []\n",
    "    _params_mae = []    \n",
    "    for i in scores:\n",
    "        _params.append(i[0].values())\n",
    "        _params_mae.append(i[1])\n",
    "    params = np.array(_params)\n",
    "    grid_res = np.column_stack((_params,_params_mae))\n",
    "    return [grid_res[:,i] for i in range(grid_res.shape[1])]"
   ]
  },
  {
   "cell_type": "code",
   "execution_count": 49,
   "metadata": {},
   "outputs": [
    {
     "data": {
      "text/plain": [
       "[array([dict_values([1, 4]), dict_values([4, 2]), dict_values([3, 4]),\n",
       "        dict_values([4, 4]), dict_values([4, 5]), dict_values([6, 4]),\n",
       "        dict_values([5, 1]), dict_values([5, 2]), dict_values([3, 5]),\n",
       "        dict_values([5, 4]), dict_values([5, 5]), dict_values([6, 5]),\n",
       "        dict_values([6, 1]), dict_values([6, 2]), dict_values([3, 6]),\n",
       "        dict_values([6, 4]), dict_values([5, 6]), dict_values([6, 6]),\n",
       "        dict_values([7, 1]), dict_values([7, 2]), dict_values([7, 3]),\n",
       "        dict_values([7, 4]), dict_values([5, 7]), dict_values([7, 6]),\n",
       "        dict_values([1, 8]), dict_values([8, 2]), dict_values([3, 8]),\n",
       "        dict_values([8, 4]), dict_values([8, 5]), dict_values([8, 6]),\n",
       "        dict_values([1, 9]), dict_values([9, 2]), dict_values([9, 3]),\n",
       "        dict_values([9, 4]), dict_values([5, 9]), dict_values([9, 6])], dtype=object),\n",
       " array([-5473646542927.931, -5493954973577.433, -5491945959344.805,\n",
       "        -5486502247905.788, -5449826807524.434, -5449684969095.941,\n",
       "        -5358614367445.231, -5373511589510.833, -5372357997112.138,\n",
       "        -5344816535622.927, -5350242118132.738, -5352989441456.425,\n",
       "        -5341631683097.659, -5305690527978.019, -5345425187297.099,\n",
       "        -5367193723702.651, -5272927933423.766, -5297999639650.315,\n",
       "        -5314219162634.393, -5336267701177.027, -5378528407315.521,\n",
       "        -5356698752369.271, -5366585529593.614, -5325543633250.735,\n",
       "        -5452431410296.96, -5425001341202.874, -5366637435124.753,\n",
       "        -5436539521847.237, -5391297389625.899, -5369443277291.133,\n",
       "        -5509884104370.462, -5470786345777.492, -5501621583915.131,\n",
       "        -5454786182181.619, -5493580334956.24, -5427002402722.166], dtype=object)]"
      ]
     },
     "execution_count": 49,
     "metadata": {},
     "output_type": "execute_result"
    }
   ],
   "source": [
    "convert_grid_scores(optimzed_xgb.grid_scores_)"
   ]
  },
  {
   "cell_type": "code",
   "execution_count": 51,
   "metadata": {},
   "outputs": [],
   "source": [
    "_, scores_1 = convert_grid_scores(optimzed_xgb.grid_scores_)\n",
    "scores_1 = scores_1.reshape(6,6)\n",
    "scores_1 = (abs(scores_1))**0.5"
   ]
  },
  {
   "cell_type": "code",
   "execution_count": 52,
   "metadata": {},
   "outputs": [
    {
     "data": {
      "text/plain": [
       "array([[2339582.557408037, 2343918.721623562, 2343490.1235859315,\n",
       "        2342328.3817402264, 2334486.4119382733, 2334456.0328042037],\n",
       "       [2314868.1101620523, 2318083.6027871887, 2317834.7648424245,\n",
       "        2311885.9261700017, 2313059.039050395, 2313652.8351194835],\n",
       "       [2311197.0238596406, 2303408.4587797318, 2312017.5577397975,\n",
       "        2316720.467320702, 2296285.6820142753, 2301738.395137535],\n",
       "       [2305259.022894042, 2310036.298670873, 2319165.4549245774,\n",
       "        2314454.3098469824, 2316589.201734657, 2307713.9409490805],\n",
       "       [2335044.1987887425, 2329163.2276856154, 2316600.4047147953,\n",
       "        2331638.8060433455, 2321916.749073037, 2317205.9203469884],\n",
       "       [2347314.2321322174, 2338971.2152520157, 2345553.577285143,\n",
       "        2335548.3686238695, 2343838.8031083196, 2329592.7546938686]], dtype=object)"
      ]
     },
     "execution_count": 52,
     "metadata": {},
     "output_type": "execute_result"
    }
   ],
   "source": [
    "scores_1"
   ]
  },
  {
   "cell_type": "code",
   "execution_count": 55,
   "metadata": {},
   "outputs": [
    {
     "data": {
      "image/png": "[encoded data removed]",
      "text/plain": [
       "<matplotlib.figure.Figure at 0x1b672470>"
      ]
     },
     "metadata": {},
     "output_type": "display_data"
    }
   ],
   "source": [
    "plt.figure(figsize=(10,5))\n",
    "cp = plt.contourf(xgb_params_cv_1['min_child_weight'], xgb_params_cv_1['max_depth'], scores_1, cmap='coolwarm')\n",
    "\n",
    "plt.colorbar(cp)\n",
    "plt.title('Depth / min_child_weight optimization')\n",
    "plt.xlabel('min_child_weight')\n",
    "plt.ylabel('max_depth')\n",
    "plt.grid(True)\n",
    "\n",
    "plt.annotate('We use this (5,6)', xy=(5., 5.95), xytext=(4, 7.5), arrowprops=dict(facecolor='black'), color='red')\n",
    "\n",
    "\n",
    "plt.show()"
   ]
  },
  {
   "cell_type": "markdown",
   "metadata": {
    "collapsed": true
   },
   "source": [
    "### Step 3: Reducing gamma loss \n",
    "\n",
    "https://www.kaggle.com/c/santander-customer-satisfaction/discussion/20662#118487"
   ]
  },
  {
   "cell_type": "code",
   "execution_count": 56,
   "metadata": {
    "collapsed": true
   },
   "outputs": [],
   "source": [
    "xgb_params_cv_2 = {'gamma':[ 0.2 * i for i in range(0,6)]}"
   ]
  },
  {
   "cell_type": "code",
   "execution_count": 66,
   "metadata": {
    "collapsed": true
   },
   "outputs": [],
   "source": [
    "xgb_params_2 = {\n",
    "                 'colsample_bytree': 0.5,\n",
    "                 'eta': 0.1,\n",
    "                 'eval_metric': 'rmse',\n",
    "                 'objective': 'reg:linear',\n",
    "                 'seed': 0,\n",
    "                 'silent': 0,\n",
    "                 'subsample': 0.5,\n",
    "                 'max_depth' : 6,\n",
    "                 'min_child_weight':5  \n",
    "             }"
   ]
  },
  {
   "cell_type": "code",
   "execution_count": 67,
   "metadata": {
    "collapsed": true
   },
   "outputs": [],
   "source": [
    "optimzed_xgb_gamma = GridSearchCV(estimator=xgb.XGBRegressor(**xgb_params_2), param_grid=xgb_params_cv_2,\n",
    "                                  scoring='mean_squared_error',cv = 5, n_jobs = -1)"
   ]
  },
  {
   "cell_type": "code",
   "execution_count": 68,
   "metadata": {},
   "outputs": [
    {
     "name": "stdout",
     "output_type": "stream",
     "text": [
      "Wall time: 2min 48s\n"
     ]
    },
    {
     "data": {
      "text/plain": [
       "GridSearchCV(cv=5, error_score='raise',\n",
       "       estimator=XGBRegressor(base_score=0.5, booster='gbtree', colsample_bylevel=1,\n",
       "       colsample_bytree=0.5, eta=0.1, eval_metric='rmse', gamma=0,\n",
       "       learning_rate=0.1, max_delta_step=0, max_depth=6,\n",
       "       min_child_weight=5, missing=None, n_estimators=100, n_jobs=1,\n",
       "       nthread=None, objective='reg:linear', random_state=0, reg_alpha=0,\n",
       "       reg_lambda=1, scale_pos_weight=1, seed=0, silent=0, subsample=0.5),\n",
       "       fit_params={}, iid=True, n_jobs=-1,\n",
       "       param_grid={'gamma': [0.0, 0.2, 0.4, 0.6000000000000001, 0.8, 1.0]},\n",
       "       pre_dispatch='2*n_jobs', refit=True, scoring='mean_squared_error',\n",
       "       verbose=0)"
      ]
     },
     "execution_count": 68,
     "metadata": {},
     "output_type": "execute_result"
    }
   ],
   "source": [
    "%%time\n",
    "optimzed_xgb_gamma.fit(train_X, train_y)"
   ]
  },
  {
   "cell_type": "code",
   "execution_count": 69,
   "metadata": {},
   "outputs": [
    {
     "data": {
      "text/plain": [
       "[mean: -5272927933423.76562, std: 642791685925.12915, params: {'gamma': 0.0},\n",
       " mean: -5272927933423.76562, std: 642791685925.12915, params: {'gamma': 0.2},\n",
       " mean: -5272927933423.76562, std: 642791685925.12915, params: {'gamma': 0.4},\n",
       " mean: -5272927933423.76562, std: 642791685925.12915, params: {'gamma': 0.6000000000000001},\n",
       " mean: -5272927933423.76562, std: 642791685925.12915, params: {'gamma': 0.8},\n",
       " mean: -5272927933423.76562, std: 642791685925.12915, params: {'gamma': 1.0}]"
      ]
     },
     "execution_count": 69,
     "metadata": {},
     "output_type": "execute_result"
    }
   ],
   "source": [
    "optimzed_xgb_gamma.grid_scores_"
   ]
  },
  {
   "cell_type": "code",
   "execution_count": 70,
   "metadata": {},
   "outputs": [
    {
     "name": "stdout",
     "output_type": "stream",
     "text": [
      "rmse: 2296285.6820142753 params: {'gamma': 0.0}\n",
      "rmse: 2296285.6820142753 params: {'gamma': 0.2}\n",
      "rmse: 2296285.6820142753 params: {'gamma': 0.4}\n",
      "rmse: 2296285.6820142753 params: {'gamma': 0.6000000000000001}\n",
      "rmse: 2296285.6820142753 params: {'gamma': 0.8}\n",
      "rmse: 2296285.6820142753 params: {'gamma': 1.0}\n"
     ]
    }
   ],
   "source": [
    "mse2rmse(optimzed_xgb_gamma.grid_scores_)"
   ]
  },
  {
   "cell_type": "markdown",
   "metadata": {},
   "source": [
    "Even after different set of gamma values, the error did no change much. So we will continue to use \"gamma\" = 0"
   ]
  },
  {
   "cell_type": "markdown",
   "metadata": {},
   "source": [
    "### Step 4: Tuning subsample and colsample_bytree"
   ]
  },
  {
   "cell_type": "code",
   "execution_count": 62,
   "metadata": {
    "collapsed": true
   },
   "outputs": [],
   "source": [
    "xgb_params_cv_3 = {'subsample':[ 0.1 * i for i in range(5,10)],'colsample_bytree':[ 0.1 * i for i in range(5,10)] }"
   ]
  },
  {
   "cell_type": "code",
   "execution_count": 71,
   "metadata": {
    "collapsed": true
   },
   "outputs": [],
   "source": [
    "xgb_params_3 = {\n",
    "                 'eta': 0.1,\n",
    "                 'eval_metric': 'rmse',\n",
    "                 'objective': 'reg:linear',\n",
    "                 'seed': 0,\n",
    "                 'silent': 0,\n",
    "                 'max_depth' : 6,\n",
    "                 'min_child_weight':5,\n",
    "                 'gamma': 0\n",
    "             }"
   ]
  },
  {
   "cell_type": "code",
   "execution_count": 72,
   "metadata": {
    "collapsed": true
   },
   "outputs": [],
   "source": [
    "optimzed_xgb_3 = GridSearchCV(estimator=xgb.XGBRegressor(**xgb_params_3), param_grid=xgb_params_cv_3,\n",
    "                                  scoring='mean_squared_error',cv = 5, n_jobs = -1)"
   ]
  },
  {
   "cell_type": "code",
   "execution_count": 73,
   "metadata": {},
   "outputs": [
    {
     "name": "stdout",
     "output_type": "stream",
     "text": [
      "Wall time: 13min 35s\n"
     ]
    },
    {
     "data": {
      "text/plain": [
       "GridSearchCV(cv=5, error_score='raise',\n",
       "       estimator=XGBRegressor(base_score=0.5, booster='gbtree', colsample_bylevel=1,\n",
       "       colsample_bytree=1, eta=0.1, eval_metric='rmse', gamma=0,\n",
       "       learning_rate=0.1, max_delta_step=0, max_depth=6,\n",
       "       min_child_weight=5, missing=None, n_estimators=100, n_jobs=1,\n",
       "       nthread=None, objective='reg:linear', random_state=0, reg_alpha=0,\n",
       "       reg_lambda=1, scale_pos_weight=1, seed=0, silent=0, subsample=1),\n",
       "       fit_params={}, iid=True, n_jobs=-1,\n",
       "       param_grid={'subsample': [0.5, 0.6000000000000001, 0.7000000000000001, 0.8, 0.9], 'colsample_bytree': [0.5, 0.6000000000000001, 0.7000000000000001, 0.8, 0.9]},\n",
       "       pre_dispatch='2*n_jobs', refit=True, scoring='mean_squared_error',\n",
       "       verbose=0)"
      ]
     },
     "execution_count": 73,
     "metadata": {},
     "output_type": "execute_result"
    }
   ],
   "source": [
    "%%time\n",
    "optimzed_xgb_3.fit(train_X, train_y)"
   ]
  },
  {
   "cell_type": "code",
   "execution_count": 74,
   "metadata": {},
   "outputs": [
    {
     "data": {
      "text/plain": [
       "([mean: -5272927933423.76562, std: 642791685925.12915, params: {'subsample': 0.5, 'colsample_bytree': 0.5},\n",
       "  mean: -5267550381396.58105, std: 657410545698.19983, params: {'subsample': 0.6000000000000001, 'colsample_bytree': 0.5},\n",
       "  mean: -5237609978727.98438, std: 613570856530.19910, params: {'subsample': 0.7000000000000001, 'colsample_bytree': 0.5},\n",
       "  mean: -5199642593741.51465, std: 626135069816.50232, params: {'subsample': 0.8, 'colsample_bytree': 0.5},\n",
       "  mean: -5245210351854.91504, std: 638594218199.51379, params: {'subsample': 0.9, 'colsample_bytree': 0.5},\n",
       "  mean: -5296331485722.56348, std: 605432214734.26453, params: {'subsample': 0.5, 'colsample_bytree': 0.6000000000000001},\n",
       "  mean: -5292985195308.33398, std: 660323643051.24512, params: {'subsample': 0.6000000000000001, 'colsample_bytree': 0.6000000000000001},\n",
       "  mean: -5251061998320.16992, std: 656603177653.90540, params: {'subsample': 0.7000000000000001, 'colsample_bytree': 0.6000000000000001},\n",
       "  mean: -5222316382243.92578, std: 667266467672.49109, params: {'subsample': 0.8, 'colsample_bytree': 0.6000000000000001},\n",
       "  mean: -5209233827176.08594, std: 616473770447.26953, params: {'subsample': 0.9, 'colsample_bytree': 0.6000000000000001},\n",
       "  mean: -5326582419352.65723, std: 583058790037.34033, params: {'subsample': 0.5, 'colsample_bytree': 0.7000000000000001},\n",
       "  mean: -5307939887610.16797, std: 656243262797.99133, params: {'subsample': 0.6000000000000001, 'colsample_bytree': 0.7000000000000001},\n",
       "  mean: -5213759860564.73633, std: 646683728928.91382, params: {'subsample': 0.7000000000000001, 'colsample_bytree': 0.7000000000000001},\n",
       "  mean: -5240975689675.44238, std: 578672519140.81909, params: {'subsample': 0.8, 'colsample_bytree': 0.7000000000000001},\n",
       "  mean: -5215368566931.09863, std: 615051658827.03650, params: {'subsample': 0.9, 'colsample_bytree': 0.7000000000000001},\n",
       "  mean: -5321210189430.69922, std: 631207665298.35876, params: {'subsample': 0.5, 'colsample_bytree': 0.8},\n",
       "  mean: -5286216457479.16113, std: 621058730392.27319, params: {'subsample': 0.6000000000000001, 'colsample_bytree': 0.8},\n",
       "  mean: -5225277658055.47070, std: 637773226694.31836, params: {'subsample': 0.7000000000000001, 'colsample_bytree': 0.8},\n",
       "  mean: -5254509846742.16992, std: 630290975296.80139, params: {'subsample': 0.8, 'colsample_bytree': 0.8},\n",
       "  mean: -5253064625712.37109, std: 627516249064.25256, params: {'subsample': 0.9, 'colsample_bytree': 0.8},\n",
       "  mean: -5348445137774.93750, std: 640375728088.29211, params: {'subsample': 0.5, 'colsample_bytree': 0.9},\n",
       "  mean: -5321690967234.87207, std: 707622027093.49390, params: {'subsample': 0.6000000000000001, 'colsample_bytree': 0.9},\n",
       "  mean: -5210952107465.45312, std: 639941682910.67102, params: {'subsample': 0.7000000000000001, 'colsample_bytree': 0.9},\n",
       "  mean: -5233397761875.63770, std: 634342445088.85791, params: {'subsample': 0.8, 'colsample_bytree': 0.9},\n",
       "  mean: -5247743185796.75098, std: 668585345327.61523, params: {'subsample': 0.9, 'colsample_bytree': 0.9}],\n",
       " {'colsample_bytree': 0.5, 'subsample': 0.8},\n",
       " -5199642593741.515)"
      ]
     },
     "execution_count": 74,
     "metadata": {},
     "output_type": "execute_result"
    }
   ],
   "source": [
    "optimzed_xgb_3.grid_scores_,optimzed_xgb_3.best_params_,optimzed_xgb_3.best_score_"
   ]
  },
  {
   "cell_type": "code",
   "execution_count": 75,
   "metadata": {},
   "outputs": [
    {
     "name": "stdout",
     "output_type": "stream",
     "text": [
      "rmse: 2296285.6820142753 params: {'subsample': 0.5, 'colsample_bytree': 0.5}\n",
      "rmse: 2295114.45932367 params: {'subsample': 0.6000000000000001, 'colsample_bytree': 0.5}\n",
      "rmse: 2288582.5260907644 params: {'subsample': 0.7000000000000001, 'colsample_bytree': 0.5}\n",
      "rmse: 2280272.4823453696 params: {'subsample': 0.8, 'colsample_bytree': 0.5}\n",
      "rmse: 2290242.422071278 params: {'subsample': 0.9, 'colsample_bytree': 0.5}\n",
      "rmse: 2301375.998337204 params: {'subsample': 0.5, 'colsample_bytree': 0.6000000000000001}\n",
      "rmse: 2300648.8639747556 params: {'subsample': 0.6000000000000001, 'colsample_bytree': 0.6000000000000001}\n",
      "rmse: 2291519.5827922067 params: {'subsample': 0.7000000000000001, 'colsample_bytree': 0.6000000000000001}\n",
      "rmse: 2285238.8020169633 params: {'subsample': 0.8, 'colsample_bytree': 0.6000000000000001}\n",
      "rmse: 2282374.6027276255 params: {'subsample': 0.9, 'colsample_bytree': 0.6000000000000001}\n",
      "rmse: 2307938.998187053 params: {'subsample': 0.5, 'colsample_bytree': 0.7000000000000001}\n",
      "rmse: 2303896.674681868 params: {'subsample': 0.6000000000000001, 'colsample_bytree': 0.7000000000000001}\n",
      "rmse: 2283365.9059740594 params: {'subsample': 0.7000000000000001, 'colsample_bytree': 0.7000000000000001}\n",
      "rmse: 2289317.7345391447 params: {'subsample': 0.8, 'colsample_bytree': 0.7000000000000001}\n",
      "rmse: 2283718.1452471535 params: {'subsample': 0.9, 'colsample_bytree': 0.7000000000000001}\n",
      "rmse: 2306774.8458466204 params: {'subsample': 0.5, 'colsample_bytree': 0.8}\n",
      "rmse: 2299177.34363384 params: {'subsample': 0.6000000000000001, 'colsample_bytree': 0.8}\n",
      "rmse: 2285886.6240597917 params: {'subsample': 0.7000000000000001, 'colsample_bytree': 0.8}\n",
      "rmse: 2292271.7654637224 params: {'subsample': 0.8, 'colsample_bytree': 0.8}\n",
      "rmse: 2291956.506069077 params: {'subsample': 0.9, 'colsample_bytree': 0.8}\n",
      "rmse: 2312670.5640395344 params: {'subsample': 0.5, 'colsample_bytree': 0.9}\n",
      "rmse: 2306879.0534475083 params: {'subsample': 0.6000000000000001, 'colsample_bytree': 0.9}\n",
      "rmse: 2282750.995502018 params: {'subsample': 0.7000000000000001, 'colsample_bytree': 0.9}\n",
      "rmse: 2287662.07335691 params: {'subsample': 0.8, 'colsample_bytree': 0.9}\n",
      "rmse: 2290795.317307234 params: {'subsample': 0.9, 'colsample_bytree': 0.9}\n"
     ]
    }
   ],
   "source": [
    "mse2rmse(optimzed_xgb_3.grid_scores_)"
   ]
  },
  {
   "cell_type": "code",
   "execution_count": 77,
   "metadata": {},
   "outputs": [
    {
     "data": {
      "text/plain": [
       "(-5199642593741.515, {'colsample_bytree': 0.5, 'subsample': 0.8})"
      ]
     },
     "execution_count": 77,
     "metadata": {},
     "output_type": "execute_result"
    }
   ],
   "source": [
    "optimzed_xgb_3.best_score_, optimzed_xgb_3.best_params_"
   ]
  },
  {
   "cell_type": "code",
   "execution_count": 76,
   "metadata": {},
   "outputs": [
    {
     "name": "stdout",
     "output_type": "stream",
     "text": [
      "[{'rmse': 2280272.4823453696}, {'subsample': 0.8, 'colsample_bytree': 0.5}]\n"
     ]
    }
   ],
   "source": [
    "print([{'rmse' : (abs(optimzed_xgb_3.best_score_)**0.5)}, optimzed_xgb_3.best_params_])"
   ]
  },
  {
   "cell_type": "code",
   "execution_count": 78,
   "metadata": {},
   "outputs": [],
   "source": [
    "scores_3 = convert_grid_scores(optimzed_xgb_3.grid_scores_)\n",
    "\n",
    "_, scores_3 = convert_grid_scores(optimzed_xgb_3.grid_scores_)\n",
    "\n",
    "scores_3 = scores_3.reshape(5,5)\n",
    "scores_3 = (abs(scores_3))**0.5"
   ]
  },
  {
   "cell_type": "code",
   "execution_count": 82,
   "metadata": {},
   "outputs": [
    {
     "data": {
      "image/png": "[encoded data removed]",
      "text/plain": [
       "<matplotlib.figure.Figure at 0x1c67c0b8>"
      ]
     },
     "metadata": {},
     "output_type": "display_data"
    }
   ],
   "source": [
    "plt.figure(figsize=(10,5))\n",
    "cp = plt.contourf(xgb_params_cv_3['subsample'], xgb_params_cv_3['colsample_bytree'], scores_3, cmap='coolwarm')\n",
    "\n",
    "plt.colorbar(cp)\n",
    "plt.title('subsample / colsample_bytree')\n",
    "plt.xlabel('subsample')\n",
    "plt.ylabel('colsample_bytree')\n",
    "plt.grid(True)\n",
    "\n",
    "plt.annotate('We use this (0.8, 0.5)', xy=(0.8,0.525), xytext=(0.6, 0.8), arrowprops=dict(facecolor='black'), color='red')\n",
    "\n",
    "\n",
    "plt.show()"
   ]
  },
  {
   "cell_type": "code",
   "execution_count": null,
   "metadata": {
    "collapsed": true
   },
   "outputs": [],
   "source": []
  }
 ],
 "metadata": {
  "kernelspec": {
   "display_name": "Python 3",
   "language": "python",
   "name": "python3"
  },
  "language_info": {
   "codemirror_mode": {
    "name": "ipython",
    "version": 3
   },
   "file_extension": ".py",
   "mimetype": "text/x-python",
   "name": "python",
   "nbconvert_exporter": "python",
   "pygments_lexer": "ipython3",
   "version": "3.5.3"
  }
 },
 "nbformat": 4,
 "nbformat_minor": 2
}
